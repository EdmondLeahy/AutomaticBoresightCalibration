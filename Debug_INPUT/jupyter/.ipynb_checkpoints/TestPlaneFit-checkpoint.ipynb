{
 "cells": [
  {
   "cell_type": "code",
   "execution_count": 2,
   "id": "cf50534c",
   "metadata": {},
   "outputs": [],
   "source": [
    "import numpy as np\n",
    "import matplotlib.pyplot as plt\n",
    "import os"
   ]
  },
  {
   "cell_type": "code",
   "execution_count": 3,
   "id": "08d36f8b",
   "metadata": {},
   "outputs": [],
   "source": [
    "DEG2RAD = np.pi/180"
   ]
  },
  {
   "cell_type": "code",
   "execution_count": 4,
   "id": "7a2d6c14",
   "metadata": {},
   "outputs": [],
   "source": [
    "from scipy.spatial.transform import Rotation as R"
   ]
  },
  {
   "cell_type": "code",
   "execution_count": null,
   "id": "2d51224d",
   "metadata": {},
   "outputs": [],
   "source": []
  },
  {
   "cell_type": "code",
   "execution_count": 5,
   "id": "249840f5",
   "metadata": {},
   "outputs": [],
   "source": [
    "o1_planes = r'/mnt/BigSlowBoi/DOCUMENTS/Projects/AutomaticBoresightCalibration/Debug_INPUT/O1_Planes'\n",
    "o2_planes = r'/mnt/BigSlowBoi/DOCUMENTS/Projects/AutomaticBoresightCalibration/Debug_INPUT/O2_Planes'\n",
    "o3_planes = r'/mnt/BigSlowBoi/DOCUMENTS/Projects/AutomaticBoresightCalibration/Debug_INPUT/O3_Planes'\n",
    "o4_planes = r'/mnt/BigSlowBoi/DOCUMENTS/Projects/AutomaticBoresightCalibration/Debug_INPUT/O4_Planes'\n",
    "scenes = [o1_planes, o2_planes, o3_planes, o4_planes] "
   ]
  },
  {
   "cell_type": "code",
   "execution_count": 6,
   "id": "3ab00c0a",
   "metadata": {},
   "outputs": [],
   "source": [
    "def read_pcd(pcd_filename):\n",
    "    with open(pcd_filename) as pcd_stream:\n",
    "        point_dets = pcd_stream.readlines()\n",
    "        \n",
    "    points_only = point_dets[11:]\n",
    "    ret_points = []\n",
    "    for line in points_only:\n",
    "        ret_points.append([float(f) for f in line.strip(r'\\n').split(' ') if f != ''])\n",
    "    \n",
    "    return ret_points"
   ]
  },
  {
   "cell_type": "code",
   "execution_count": 7,
   "id": "dae1d18b",
   "metadata": {},
   "outputs": [],
   "source": [
    "# Get points on planes in all scenes\n",
    "all_scene_planes = []\n",
    "for scene in scenes:\n",
    "    scene_planes = []\n",
    "    for file in os.listdir(scene):\n",
    "        if file.endswith(\".pcd\"):\n",
    "            scene_planes.append(read_pcd(os.path.join(scene,file)))\n",
    "    all_scene_planes.append(scene_planes)"
   ]
  },
  {
   "cell_type": "code",
   "execution_count": 8,
   "id": "96a123f9",
   "metadata": {},
   "outputs": [],
   "source": [
    "# Get EOP for each plane in all scenes\n",
    "scene_eops = []\n",
    "eop_file = r'scene_details.txt'\n",
    "with open(eop_file) as eop_stream:\n",
    "    scene_eops_raw = eop_stream.readlines()\n",
    "\n",
    "for eop in scene_eops_raw:\n",
    "    scene_eops.append(np.array([float(f) for f in eop.strip(r'\\n').split(' ') if f != '']))"
   ]
  },
  {
   "cell_type": "code",
   "execution_count": 9,
   "id": "e1d7661f",
   "metadata": {},
   "outputs": [],
   "source": [
    "boresight = np.array([-0.661, -0.272, -1.4158, 0, 0 , 90])"
   ]
  },
  {
   "cell_type": "code",
   "execution_count": 24,
   "id": "75fbbd3a",
   "metadata": {},
   "outputs": [],
   "source": [
    "def move_to_ground(eop, boresight, n):\n",
    "    t_eop = eop[:3]\n",
    "    t_b = boresight[:3]\n",
    "    R_eop = R.from_rotvec(DEG2RAD*eop[3:]).as_matrix()\n",
    "    R_b = R.from_rotvec(DEG2RAD*boresight[3:]).as_matrix()\n",
    "        \n",
    "    n_g = t_eop + np.matmul(R_eop,t_b) + np.matmul(np.matmul(R_eop,R_b),n)\n",
    "    \n",
    "    return n_g"
   ]
  },
  {
   "cell_type": "code",
   "execution_count": 34,
   "id": "7da20e24",
   "metadata": {},
   "outputs": [],
   "source": [
    "def make_pcd_header(n_pt):\n",
    "    return(f'# .PCD v0.7 - Point Cloud Data file format\\nVERSION 0.7\\nFIELDS x y z\\nSIZE 4 4 4\\nTYPE F F F\\nCOUNT 1 1 1\\nWIDTH {n_pt}\\nHEIGHT 1\\nVIEWPOINT 0 0 0 2.98023e-07 1 0 -0\\nPOINTS 632\\nDATA ascii\\n')\n",
    "\n",
    "    "
   ]
  },
  {
   "cell_type": "code",
   "execution_count": 31,
   "id": "e72db51c",
   "metadata": {},
   "outputs": [],
   "source": [
    "PCD_HEADER = '# .PCD v0.7 - Point Cloud Data file format\\nVERSION 0.7\\nFIELDS x y z\\nSIZE 4 4 4\\nTYPE F F F\\nCOUNT 1 1 1\\nWIDTH 632\\nHEIGHT 1\\nVIEWPOINT 0 0 0 2.98023e-07 1 0 -0\\nPOINTS 632\\nDATA ascii\\n'"
   ]
  },
  {
   "cell_type": "code",
   "execution_count": 32,
   "id": "599f5205",
   "metadata": {},
   "outputs": [],
   "source": [
    "ground_points = []\n",
    "for i in range(len(all_scene_planes)):\n",
    "    scene_points = []\n",
    "    for plane in all_scene_planes[i]: \n",
    "        plane_points = []\n",
    "        for pt in plane:\n",
    "            pt_ground = move_to_ground(scene_eops[i],boresight, pt)\n",
    "            plane_points.append(pt_ground)\n",
    "        scene_points.append(plane_points)\n",
    "    ground_points.append(scene_points)"
   ]
  },
  {
   "cell_type": "code",
   "execution_count": 35,
   "id": "3f614668",
   "metadata": {},
   "outputs": [
    {
     "ename": "NameError",
     "evalue": "name 'n_pnt' is not defined",
     "output_type": "error",
     "traceback": [
      "\u001b[0;31m---------------------------------------------------------------------------\u001b[0m",
      "\u001b[0;31mNameError\u001b[0m                                 Traceback (most recent call last)",
      "\u001b[0;32m<ipython-input-35-66e7a6f2a3ea>\u001b[0m in \u001b[0;36m<module>\u001b[0;34m\u001b[0m\n\u001b[1;32m      2\u001b[0m     \u001b[0;32mfor\u001b[0m \u001b[0mj\u001b[0m \u001b[0;32min\u001b[0m \u001b[0mrange\u001b[0m\u001b[0;34m(\u001b[0m\u001b[0mlen\u001b[0m\u001b[0;34m(\u001b[0m\u001b[0mground_points\u001b[0m\u001b[0;34m[\u001b[0m\u001b[0mi\u001b[0m\u001b[0;34m]\u001b[0m\u001b[0;34m)\u001b[0m\u001b[0;34m)\u001b[0m\u001b[0;34m:\u001b[0m\u001b[0;34m\u001b[0m\u001b[0;34m\u001b[0m\u001b[0m\n\u001b[1;32m      3\u001b[0m         \u001b[0;32mwith\u001b[0m \u001b[0mopen\u001b[0m\u001b[0;34m(\u001b[0m\u001b[0;34mf'Scene{i}_plane{j}_ground.pcd'\u001b[0m\u001b[0;34m,\u001b[0m\u001b[0;34m'w+'\u001b[0m\u001b[0;34m)\u001b[0m \u001b[0;32mas\u001b[0m \u001b[0mpcd_file\u001b[0m\u001b[0;34m:\u001b[0m\u001b[0;34m\u001b[0m\u001b[0;34m\u001b[0m\u001b[0m\n\u001b[0;32m----> 4\u001b[0;31m             \u001b[0mpcd_file\u001b[0m\u001b[0;34m.\u001b[0m\u001b[0mwrite\u001b[0m\u001b[0;34m(\u001b[0m\u001b[0mmake_pcd_header\u001b[0m\u001b[0;34m(\u001b[0m\u001b[0mlen\u001b[0m\u001b[0;34m(\u001b[0m\u001b[0mground_points\u001b[0m\u001b[0;34m[\u001b[0m\u001b[0mi\u001b[0m\u001b[0;34m]\u001b[0m\u001b[0;34m[\u001b[0m\u001b[0mj\u001b[0m\u001b[0;34m]\u001b[0m\u001b[0;34m)\u001b[0m\u001b[0;34m)\u001b[0m\u001b[0;34m)\u001b[0m\u001b[0;34m\u001b[0m\u001b[0;34m\u001b[0m\u001b[0m\n\u001b[0m\u001b[1;32m      5\u001b[0m             \u001b[0;32mfor\u001b[0m \u001b[0mpnt\u001b[0m \u001b[0;32min\u001b[0m \u001b[0mground_points\u001b[0m\u001b[0;34m[\u001b[0m\u001b[0mi\u001b[0m\u001b[0;34m]\u001b[0m\u001b[0;34m[\u001b[0m\u001b[0mj\u001b[0m\u001b[0;34m]\u001b[0m\u001b[0;34m:\u001b[0m\u001b[0;34m\u001b[0m\u001b[0;34m\u001b[0m\u001b[0m\n\u001b[1;32m      6\u001b[0m                 \u001b[0mpcd_file\u001b[0m\u001b[0;34m.\u001b[0m\u001b[0mwrite\u001b[0m\u001b[0;34m(\u001b[0m\u001b[0;34mf'{pnt[0]} {pnt[1]} {pnt[2]}\\n'\u001b[0m\u001b[0;34m)\u001b[0m\u001b[0;34m\u001b[0m\u001b[0;34m\u001b[0m\u001b[0m\n",
      "\u001b[0;32m<ipython-input-34-ce3353d468fd>\u001b[0m in \u001b[0;36mmake_pcd_header\u001b[0;34m(n_pt)\u001b[0m\n\u001b[1;32m      1\u001b[0m \u001b[0;32mdef\u001b[0m \u001b[0mmake_pcd_header\u001b[0m\u001b[0;34m(\u001b[0m\u001b[0mn_pt\u001b[0m\u001b[0;34m)\u001b[0m\u001b[0;34m:\u001b[0m\u001b[0;34m\u001b[0m\u001b[0;34m\u001b[0m\u001b[0m\n\u001b[0;32m----> 2\u001b[0;31m     \u001b[0;32mreturn\u001b[0m\u001b[0;34m(\u001b[0m\u001b[0;34mf'# .PCD v0.7 - Point Cloud Data file format\\nVERSION 0.7\\nFIELDS x y z\\nSIZE 4 4 4\\nTYPE F F F\\nCOUNT 1 1 1\\nWIDTH {n_pnt}\\nHEIGHT 1\\nVIEWPOINT 0 0 0 2.98023e-07 1 0 -0\\nPOINTS 632\\nDATA ascii\\n'\u001b[0m\u001b[0;34m)\u001b[0m\u001b[0;34m\u001b[0m\u001b[0;34m\u001b[0m\u001b[0m\n\u001b[0m\u001b[1;32m      3\u001b[0m \u001b[0;34m\u001b[0m\u001b[0m\n\u001b[1;32m      4\u001b[0m \u001b[0;34m\u001b[0m\u001b[0m\n",
      "\u001b[0;31mNameError\u001b[0m: name 'n_pnt' is not defined"
     ]
    }
   ],
   "source": [
    "for i in range(len(ground_points)):\n",
    "    for j in range(len(ground_points[i])):\n",
    "        with open(f'Scene{i}_plane{j}_ground.pcd','w+') as pcd_file:\n",
    "            pcd_file.write(make_pcd_header(len(ground_points[i][j])))\n",
    "            for pnt in ground_points[i][j]:\n",
    "                pcd_file.write(f'{pnt[0]} {pnt[1]} {pnt[2]}\\n')"
   ]
  },
  {
   "cell_type": "code",
   "execution_count": null,
   "id": "b320bb58",
   "metadata": {},
   "outputs": [],
   "source": []
  },
  {
   "cell_type": "code",
   "execution_count": null,
   "id": "f5dfa5f8",
   "metadata": {},
   "outputs": [],
   "source": []
  },
  {
   "cell_type": "code",
   "execution_count": null,
   "id": "9eb7f2a6",
   "metadata": {},
   "outputs": [],
   "source": []
  },
  {
   "cell_type": "code",
   "execution_count": null,
   "id": "3e717e61",
   "metadata": {},
   "outputs": [],
   "source": []
  },
  {
   "cell_type": "code",
   "execution_count": null,
   "id": "d4cddcff",
   "metadata": {},
   "outputs": [],
   "source": []
  },
  {
   "cell_type": "code",
   "execution_count": 4,
   "id": "8eed5cae",
   "metadata": {},
   "outputs": [],
   "source": [
    "plane_file = r'PlaneEquations.txt'\n",
    "eop_file = r'Orientation.txt'\n",
    "\n",
    "plane_pcd = r'Cloud_Plane_0.pcd'"
   ]
  },
  {
   "cell_type": "code",
   "execution_count": 5,
   "id": "00d42e76",
   "metadata": {},
   "outputs": [],
   "source": [
    "plane_details = []\n",
    "with open(plane_file) as planes_stream:\n",
    "    plane_details = planes_stream.readlines()\n"
   ]
  },
  {
   "cell_type": "code",
   "execution_count": 178,
   "id": "6b75db13",
   "metadata": {},
   "outputs": [],
   "source": [
    "eop_details = []\n",
    "with open(eop_file) as eop_stream:\n",
    "    eop_raw = eop_stream.read()\n",
    "eop = np.array([float(f) for f in eop_raw.strip(r'\\n').split(' ') if f != ''])\n",
    "eop[0] = eop[0] - (-1628660.0662500)\n",
    "eop[1] = eop[1] - (-3658944.5390000)\n",
    "eop[2] = eop[2] - (4948613.4167500)"
   ]
  },
  {
   "cell_type": "code",
   "execution_count": 36,
   "id": "6b35b09f",
   "metadata": {},
   "outputs": [],
   "source": []
  },
  {
   "cell_type": "code",
   "execution_count": 37,
   "id": "584abe72",
   "metadata": {},
   "outputs": [],
   "source": []
  },
  {
   "cell_type": "code",
   "execution_count": 38,
   "id": "44d33fd4",
   "metadata": {},
   "outputs": [
    {
     "ename": "SyntaxError",
     "evalue": "unexpected EOF while parsing (<ipython-input-38-fffe8d68c612>, line 1)",
     "output_type": "error",
     "traceback": [
      "\u001b[0;36m  File \u001b[0;32m\"<ipython-input-38-fffe8d68c612>\"\u001b[0;36m, line \u001b[0;32m1\u001b[0m\n\u001b[0;31m    for i in range(len(all_scene_planes)):\u001b[0m\n\u001b[0m                                          ^\u001b[0m\n\u001b[0;31mSyntaxError\u001b[0m\u001b[0;31m:\u001b[0m unexpected EOF while parsing\n"
     ]
    }
   ],
   "source": [
    "\n",
    "    "
   ]
  },
  {
   "cell_type": "code",
   "execution_count": null,
   "id": "39fc2e30",
   "metadata": {},
   "outputs": [],
   "source": []
  },
  {
   "cell_type": "code",
   "execution_count": null,
   "id": "8df2a6cf",
   "metadata": {},
   "outputs": [],
   "source": []
  },
  {
   "cell_type": "code",
   "execution_count": null,
   "id": "d7d2840d",
   "metadata": {},
   "outputs": [],
   "source": []
  },
  {
   "cell_type": "code",
   "execution_count": 182,
   "id": "9c2805d2",
   "metadata": {},
   "outputs": [],
   "source": [
    "def comp_fit(points, plane):\n",
    "    v_plane = np.array(plane[:3])\n",
    "    residuals = []\n",
    "    for point in points:\n",
    "        v_point = np.array(point)\n",
    "        res = v_point.dot(v_plane)\n",
    "        residuals.append(res+plane[3])\n",
    "#         print(res)\n",
    "    return residuals"
   ]
  },
  {
   "cell_type": "code",
   "execution_count": 183,
   "id": "afc47466",
   "metadata": {},
   "outputs": [],
   "source": [
    "final_plane_details = []\n",
    "for plane in plane_details:\n",
    "#     print(plane.strip(r' \\n').split(' '))\n",
    "    plane = [float(f) for f in plane.strip(r'\\n').split(' ') if f != '']\n",
    "    final_plane_details.append(plane)"
   ]
  },
  {
   "cell_type": "code",
   "execution_count": 184,
   "id": "9b01cf61",
   "metadata": {},
   "outputs": [
    {
     "data": {
      "text/plain": [
       "[[0.798944, 0.598752, 0.0564357, -14.2932],\n",
       " [0.603087, -0.793938, -0.0771246, 15.7359],\n",
       " [0.605768, -0.78965, -0.0974536, -25.8559]]"
      ]
     },
     "execution_count": 184,
     "metadata": {},
     "output_type": "execute_result"
    }
   ],
   "source": [
    "final_plane_details"
   ]
  },
  {
   "cell_type": "code",
   "execution_count": 185,
   "id": "b4890bb6",
   "metadata": {},
   "outputs": [],
   "source": [
    "pts = read_pcd(plane_pcd)"
   ]
  },
  {
   "cell_type": "code",
   "execution_count": 186,
   "id": "bb575e95",
   "metadata": {},
   "outputs": [],
   "source": [
    "residuals  = comp_fit(pts, final_plane_details[0])"
   ]
  },
  {
   "cell_type": "code",
   "execution_count": 187,
   "id": "6075e271",
   "metadata": {},
   "outputs": [
    {
     "data": {
      "text/plain": [
       "[<matplotlib.lines.Line2D at 0x7f2cfed0b370>]"
      ]
     },
     "execution_count": 187,
     "metadata": {},
     "output_type": "execute_result"
    },
    {
     "data": {
      "image/png": "[encoded data removed]",
      "text/plain": [
       "<Figure size 432x288 with 1 Axes>"
      ]
     },
     "metadata": {
      "needs_background": "light"
     },
     "output_type": "display_data"
    }
   ],
   "source": [
    "plt.plot(residuals)"
   ]
  },
  {
   "cell_type": "markdown",
   "id": "fc14901d",
   "metadata": {},
   "source": [
    "# Rotate everything by Boresight Angles"
   ]
  },
  {
   "cell_type": "code",
   "execution_count": 227,
   "id": "773f3b1a",
   "metadata": {},
   "outputs": [],
   "source": [
    "boresight = np.array([-0.661, -0.272, -1.4158, 180, 0 , 90])"
   ]
  },
  {
   "cell_type": "code",
   "execution_count": 228,
   "id": "bc7f4f83",
   "metadata": {},
   "outputs": [],
   "source": [
    "r = R.from_rotvec(DEG2RAD*boresight[3:6])"
   ]
  },
  {
   "cell_type": "code",
   "execution_count": 229,
   "id": "93893d14",
   "metadata": {},
   "outputs": [
    {
     "data": {
      "text/plain": [
       "array([[ 0.61359352,  0.16205898,  0.77281297],\n",
       "       [-0.16205898, -0.93203242,  0.32411796],\n",
       "       [ 0.77281297, -0.32411796, -0.54562594]])"
      ]
     },
     "execution_count": 229,
     "metadata": {},
     "output_type": "execute_result"
    }
   ],
   "source": [
    "r.as_matrix()"
   ]
  },
  {
   "cell_type": "code",
   "execution_count": 230,
   "id": "81ac94a3",
   "metadata": {},
   "outputs": [],
   "source": [
    "rot_points = [r.apply(np.array(p)) for p in pts]\n",
    "rot_plane = r.apply(np.array(final_plane_details[0][:3]))"
   ]
  },
  {
   "cell_type": "code",
   "execution_count": 231,
   "id": "1ef9c6a2",
   "metadata": {},
   "outputs": [],
   "source": [
    "res2 = comp_fit(rot_points, np.append(rot_plane, final_plane_details[0][3]))"
   ]
  },
  {
   "cell_type": "code",
   "execution_count": 232,
   "id": "d7aa9b72",
   "metadata": {},
   "outputs": [
    {
     "data": {
      "text/plain": [
       "[<matplotlib.lines.Line2D at 0x7f2cfcee55e0>]"
      ]
     },
     "execution_count": 232,
     "metadata": {},
     "output_type": "execute_result"
    },
    {
     "data": {
      "image/png": "[encoded data removed]",
      "text/plain": [
       "<Figure size 432x288 with 1 Axes>"
      ]
     },
     "metadata": {
      "needs_background": "light"
     },
     "output_type": "display_data"
    }
   ],
   "source": [
    "plt.figure()\n",
    "plt.plot(residuals)\n",
    "plt.plot(res2)"
   ]
  },
  {
   "cell_type": "markdown",
   "id": "c4862550",
   "metadata": {},
   "source": [
    "# Rotate and Translate"
   ]
  },
  {
   "cell_type": "code",
   "execution_count": null,
   "id": "e2216a76",
   "metadata": {},
   "outputs": [],
   "source": []
  },
  {
   "cell_type": "code",
   "execution_count": 245,
   "id": "f0c847b1",
   "metadata": {},
   "outputs": [],
   "source": [
    "def move_to_ground(eop, boresight, n):\n",
    "    t_eop = eop[:3]\n",
    "    t_b = boresight[:3]\n",
    "    R_eop = R.from_rotvec(DEG2RAD*eop[3:]).as_matrix()\n",
    "    R_b = R.from_rotvec(DEG2RAD*boresight[3:]).as_matrix()\n",
    "#     n_g = R_eop.apply(R_b.apply(n))\n",
    "#     print(R_eop)\n",
    "#     print(t_eop)\n",
    "#     print(t_b)\n",
    "#     print(R_eop)\n",
    "#     print(R_b)\n",
    "#     print(np.matmul(R_eop,t_b))\n",
    "#     print(np.matmul(np.matmul(R_eop,R_b),n))\n",
    "#     print(n)\n",
    "    \n",
    "    \n",
    "    n_g = t_eop + np.matmul(R_eop,t_b) + np.matmul(np.matmul(R_eop,R_b),n)\n",
    "    \n",
    "    return n_g\n",
    "    "
   ]
  },
  {
   "cell_type": "code",
   "execution_count": 246,
   "id": "6cc4d0ab",
   "metadata": {},
   "outputs": [],
   "source": [
    "def move_plane_to_ground(eop, boresight, n):\n",
    "    t_eop = eop[:3]\n",
    "    t_b = boresight[:3]\n",
    "    R_eop = R.from_rotvec(DEG2RAD*eop[3:]).as_matrix()\n",
    "    R_b = R.from_rotvec(DEG2RAD*boresight[3:]).as_matrix()\n",
    "#     n_g = t_eop + R_eop.apply(t_b) + R_eop.apply(R_b.apply(n))\n",
    "\n",
    "#     print(np.transpose(R_eop))\n",
    "#     print(R_b)\n",
    "    combined_r = np.transpose(np.linalg.inv(np.matmul(R_eop,R_b) ))\n",
    "    n_g =  np.matmul(combined_r,n)\n",
    "    \n",
    "    return n_g"
   ]
  },
  {
   "cell_type": "code",
   "execution_count": 247,
   "id": "e0b271a6",
   "metadata": {},
   "outputs": [],
   "source": [
    "def find_plane_d(n, pts):\n",
    "    dsum = 0\n",
    "    for p in pts:\n",
    "        dsum += np.dot(p,n)\n",
    "    \n",
    "    return -1*dsum/len(pts)"
   ]
  },
  {
   "cell_type": "code",
   "execution_count": 248,
   "id": "b8cf3af7",
   "metadata": {},
   "outputs": [],
   "source": [
    "pts_g = [move_to_ground(eop, boresight, p) for p in pts]\n",
    "plane_g = move_plane_to_ground(eop, boresight, final_plane_details[0][:3])\n",
    "plane_g = np.append(plane_g, find_plane_d(plane_g, pts_g))"
   ]
  },
  {
   "cell_type": "code",
   "execution_count": 249,
   "id": "b219e660",
   "metadata": {},
   "outputs": [
    {
     "data": {
      "text/plain": [
       "array([3.14159265, 0.        , 1.57079633])"
      ]
     },
     "execution_count": 249,
     "metadata": {},
     "output_type": "execute_result"
    }
   ],
   "source": [
    "DEG2RAD*np.array([180,0,90])"
   ]
  },
  {
   "cell_type": "code",
   "execution_count": 250,
   "id": "e823a622",
   "metadata": {},
   "outputs": [],
   "source": [
    "res3 = comp_fit(pts_g, plane_g)"
   ]
  },
  {
   "cell_type": "code",
   "execution_count": 256,
   "id": "eabd0556",
   "metadata": {},
   "outputs": [
    {
     "data": {
      "text/plain": [
       "-0.007588234887425685"
      ]
     },
     "execution_count": 256,
     "metadata": {},
     "output_type": "execute_result"
    }
   ],
   "source": [
    "np.mean(residuals)"
   ]
  },
  {
   "cell_type": "code",
   "execution_count": 251,
   "id": "7ce42522",
   "metadata": {},
   "outputs": [
    {
     "data": {
      "text/plain": [
       "<matplotlib.legend.Legend at 0x7f2cfd247b20>"
      ]
     },
     "execution_count": 251,
     "metadata": {},
     "output_type": "execute_result"
    },
    {
     "data": {
      "image/png": "[encoded data removed]",
      "text/plain": [
       "<Figure size 432x288 with 1 Axes>"
      ]
     },
     "metadata": {
      "needs_background": "light"
     },
     "output_type": "display_data"
    }
   ],
   "source": [
    "plt.figure()\n",
    "plt.plot(residuals)\n",
    "plt.plot(res2)\n",
    "plt.plot(res3)\n",
    "plt.legend(['r1','r2','r3'])"
   ]
  },
  {
   "cell_type": "markdown",
   "id": "2cb5a71d",
   "metadata": {},
   "source": [
    "with open('points_ground.txt','w+') as write_file:\n",
    "    for pt in pts_g:\n",
    "        write_file.write(f'{pt[0]}, {pt[1]}, {pt[2]} \\n')"
   ]
  },
  {
   "cell_type": "code",
   "execution_count": 240,
   "id": "e81eaa5f",
   "metadata": {},
   "outputs": [
    {
     "data": {
      "text/plain": [
       "[13.844746, 5.3113513, -0.77717853]"
      ]
     },
     "execution_count": 240,
     "metadata": {},
     "output_type": "execute_result"
    }
   ],
   "source": [
    "pts[0]"
   ]
  },
  {
   "cell_type": "code",
   "execution_count": 241,
   "id": "236af97f",
   "metadata": {},
   "outputs": [
    {
     "name": "stdout",
     "output_type": "stream",
     "text": [
      "[4.96925 0.756   2.10125]\n",
      "[-0.661  -0.272  -1.4158]\n",
      "[[ 0.79799486 -0.60211183 -0.02579809]\n",
      " [ 0.60167923  0.79840675 -0.02299487]\n",
      " [ 0.03444285  0.00282761  0.99940267]]\n",
      "[[ 0.61359352  0.16205898  0.77281297]\n",
      " [-0.16205898 -0.93203242  0.32411796]\n",
      " [ 0.77281297 -0.32411796 -0.54562594]]\n",
      "[-0.32717524 -0.58232047 -1.43849014]\n",
      "[11.22731357 -0.89325203  9.67682705]\n",
      "[13.844746    5.3113513  -0.77717853]\n"
     ]
    },
    {
     "data": {
      "text/plain": [
       "array([15.86938833, -0.7195725 , 10.33958691])"
      ]
     },
     "execution_count": 241,
     "metadata": {},
     "output_type": "execute_result"
    }
   ],
   "source": [
    "move_to_ground(eop,boresight,np.array(pts[0]))"
   ]
  },
  {
   "cell_type": "code",
   "execution_count": 242,
   "id": "e58f7d21",
   "metadata": {},
   "outputs": [
    {
     "data": {
      "text/plain": [
       "array([ 4.96925   ,  0.756     ,  2.10125   ,  0.79400619, -1.85232734,\n",
       "       37.01494077])"
      ]
     },
     "execution_count": 242,
     "metadata": {},
     "output_type": "execute_result"
    }
   ],
   "source": [
    "eop"
   ]
  },
  {
   "cell_type": "code",
   "execution_count": null,
   "id": "385ac08d",
   "metadata": {},
   "outputs": [],
   "source": []
  },
  {
   "cell_type": "code",
   "execution_count": 243,
   "id": "a5f45afd",
   "metadata": {},
   "outputs": [
    {
     "data": {
      "text/plain": [
       "array([15.86938833, -0.7195725 , 10.33958691])"
      ]
     },
     "execution_count": 243,
     "metadata": {},
     "output_type": "execute_result"
    }
   ],
   "source": [
    "pts_g[0]"
   ]
  },
  {
   "cell_type": "code",
   "execution_count": 244,
   "id": "a07f72a6",
   "metadata": {},
   "outputs": [
    {
     "data": {
      "text/plain": [
       "array([  0.89626433,  -0.16376943,   0.41217749, -18.69086909])"
      ]
     },
     "execution_count": 244,
     "metadata": {},
     "output_type": "execute_result"
    }
   ],
   "source": [
    "plane_g"
   ]
  },
  {
   "cell_type": "code",
   "execution_count": 257,
   "id": "90dbd3ca",
   "metadata": {},
   "outputs": [],
   "source": [
    "pt_new_g = np.array([0.51649,14.4065,1.80133])"
   ]
  },
  {
   "cell_type": "code",
   "execution_count": 258,
   "id": "ea499532",
   "metadata": {},
   "outputs": [],
   "source": [
    "plane_new_g = np.array([-0.0023960022, 0.9996595567, -0.0259813357, 14.4417])"
   ]
  },
  {
   "cell_type": "code",
   "execution_count": 260,
   "id": "a9d58e02",
   "metadata": {},
   "outputs": [
    {
     "data": {
      "text/plain": [
       "28.79525693298579"
      ]
     },
     "execution_count": 260,
     "metadata": {},
     "output_type": "execute_result"
    }
   ],
   "source": [
    "pt_new_g.dot(plane_new_g[:3]) + 14.4417"
   ]
  },
  {
   "cell_type": "markdown",
   "id": "654d03d4",
   "metadata": {},
   "source": [
    "# Real misclosure plot"
   ]
  },
  {
   "cell_type": "code",
   "execution_count": 109,
   "id": "ae77ace7",
   "metadata": {},
   "outputs": [],
   "source": [
    "filename = r'w_output_original.txt'\n",
    "filename_1m = r'w_output_iter.txt'"
   ]
  },
  {
   "cell_type": "code",
   "execution_count": 110,
   "id": "6c1cd644",
   "metadata": {},
   "outputs": [],
   "source": [
    "with open(filename) as w_instream:\n",
    "    w = w_instream.readlines()\n",
    "w[0].strip(r'\\n').split(' ')\n",
    "plot_w = []\n",
    "for line in w:\n",
    "    plot_w.append([float(f) for f in line.strip(r'\\n').split(' ') if f != ''])\n",
    "    \n",
    "plot_w = np.array(plot_w)"
   ]
  },
  {
   "cell_type": "code",
   "execution_count": 111,
   "id": "51f7c637",
   "metadata": {},
   "outputs": [],
   "source": [
    "w = []\n",
    "with open(filename_1m) as w_instream:\n",
    "    w2 = w_instream.readlines()\n",
    "plot_w_1m = []\n",
    "for line in w2:\n",
    "    plot_w_1m.append([float(f) for f in line.strip(r'\\n').split(' ') if f != ''])\n",
    "    \n",
    "plot_w_1m = np.array(plot_w_1m)"
   ]
  },
  {
   "cell_type": "code",
   "execution_count": 112,
   "id": "e9c5f33e",
   "metadata": {},
   "outputs": [
    {
     "data": {
      "text/plain": [
       "-2.542691517909773"
      ]
     },
     "execution_count": 112,
     "metadata": {},
     "output_type": "execute_result"
    }
   ],
   "source": [
    "np.mean(plot_w)"
   ]
  },
  {
   "cell_type": "code",
   "execution_count": 113,
   "id": "cc6b8a76",
   "metadata": {},
   "outputs": [
    {
     "data": {
      "text/plain": [
       "-19459.645681854774"
      ]
     },
     "execution_count": 113,
     "metadata": {},
     "output_type": "execute_result"
    }
   ],
   "source": [
    "np.mean(plot_w_1m)"
   ]
  },
  {
   "cell_type": "code",
   "execution_count": 116,
   "id": "efd0f587",
   "metadata": {},
   "outputs": [
    {
     "data": {
      "text/plain": [
       "[<matplotlib.lines.Line2D at 0x7f014a6bbf10>]"
      ]
     },
     "execution_count": 116,
     "metadata": {},
     "output_type": "execute_result"
    },
    {
     "data": {
      "image/png": "[encoded data removed]",
      "text/plain": [
       "<Figure size 432x288 with 1 Axes>"
      ]
     },
     "metadata": {
      "needs_background": "light"
     },
     "output_type": "display_data"
    }
   ],
   "source": [
    "plt.figure()\n",
    "plt.plot(plot_w)"
   ]
  },
  {
   "cell_type": "code",
   "execution_count": 115,
   "id": "dde5551e",
   "metadata": {},
   "outputs": [
    {
     "data": {
      "text/plain": [
       "[<matplotlib.lines.Line2D at 0x7f014aa57610>]"
      ]
     },
     "execution_count": 115,
     "metadata": {},
     "output_type": "execute_result"
    },
    {
     "data": {
      "image/png": "[encoded data removed]",
      "text/plain": [
       "<Figure size 432x288 with 1 Axes>"
      ]
     },
     "metadata": {
      "needs_background": "light"
     },
     "output_type": "display_data"
    }
   ],
   "source": [
    "\n",
    "plt.plot(plot_w_1m)"
   ]
  },
  {
   "cell_type": "code",
   "execution_count": 96,
   "id": "5de7d37c",
   "metadata": {},
   "outputs": [
    {
     "data": {
      "text/plain": [
       "array([[0.0881137],\n",
       "       [0.0603706],\n",
       "       [0.087369 ],\n",
       "       ...,\n",
       "       [1.08624  ],\n",
       "       [1.06963  ],\n",
       "       [1.00871  ]])"
      ]
     },
     "execution_count": 96,
     "metadata": {},
     "output_type": "execute_result"
    }
   ],
   "source": [
    "plot_w_1m"
   ]
  },
  {
   "cell_type": "code",
   "execution_count": null,
   "id": "46801941",
   "metadata": {},
   "outputs": [],
   "source": []
  },
  {
   "cell_type": "code",
   "execution_count": null,
   "id": "137aa38f",
   "metadata": {},
   "outputs": [],
   "source": []
  }
 ],
 "metadata": {
  "kernelspec": {
   "display_name": "Python 3",
   "language": "python",
   "name": "python3"
  },
  "language_info": {
   "codemirror_mode": {
    "name": "ipython",
    "version": 3
   },
   "file_extension": ".py",
   "mimetype": "text/x-python",
   "name": "python",
   "nbconvert_exporter": "python",
   "pygments_lexer": "ipython3",
   "version": "3.8.5"
  }
 },
 "nbformat": 4,
 "nbformat_minor": 5
}
