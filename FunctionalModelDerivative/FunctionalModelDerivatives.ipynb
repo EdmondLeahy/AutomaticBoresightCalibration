{
 "cells": [
  {
   "cell_type": "code",
   "execution_count": 1,
   "id": "ee8c238c",
   "metadata": {},
   "outputs": [],
   "source": [
    "import sympy as sy\n",
    "sy.init_printing()"
   ]
  },
  {
   "cell_type": "code",
   "execution_count": 95,
   "id": "0d5a986f",
   "metadata": {},
   "outputs": [],
   "source": [
    "b = sy.symbols(['x','y','z', 'w', 'p', 'k'])\n",
    "ins = sy.symbols(['X','Y','Z', 'W', 'P', 'K'])\n",
    "pt = sy.symbols(['px', 'py', 'pz'])\n",
    "plane = sy.symbols(['a', 'b', 'c', 'd'])"
   ]
  },
  {
   "cell_type": "markdown",
   "id": "7bc69c54",
   "metadata": {},
   "source": [
    "# Make the Rotation matrix"
   ]
  },
  {
   "cell_type": "code",
   "execution_count": 47,
   "id": "a081d6c9",
   "metadata": {},
   "outputs": [],
   "source": [
    "R_x = sy.Matrix([[1,0,0],\n",
    "               [0, sy.cos(ins[3]), -1*sy.sin(ins[3])], \n",
    "               [0, sy.sin(ins[3]), sy.cos(ins[3])]])\n",
    "\n",
    "R_y = sy.Matrix([[sy.cos(ins[4]),0,sy.sin(ins[4])],\n",
    "               [0, 1, 0], \n",
    "               [-1*sy.sin(ins[4]), 0, sy.cos(ins[4])]])\n",
    "\n",
    "R_z = sy.Matrix([[sy.cos(ins[5]),-1*sy.sin(ins[5]),0],\n",
    "               [sy.sin(ins[5]), sy.cos(ins[5]), 0], \n",
    "               [0, 0, 1]])"
   ]
  },
  {
   "cell_type": "code",
   "execution_count": 55,
   "id": "409851b7",
   "metadata": {},
   "outputs": [
    {
     "data": {
      "text/latex": [
       "$\\displaystyle \\left[\\begin{matrix}1 & 0 & 0\\\\0 & \\cos{\\left(W \\right)} & - \\sin{\\left(W \\right)}\\\\0 & \\sin{\\left(W \\right)} & \\cos{\\left(W \\right)}\\end{matrix}\\right]$"
      ],
      "text/plain": [
       "⎡1    0        0   ⎤\n",
       "⎢                  ⎥\n",
       "⎢0  cos(W)  -sin(W)⎥\n",
       "⎢                  ⎥\n",
       "⎣0  sin(W)  cos(W) ⎦"
      ]
     },
     "execution_count": 55,
     "metadata": {},
     "output_type": "execute_result"
    }
   ],
   "source": [
    "R_x"
   ]
  },
  {
   "cell_type": "code",
   "execution_count": 56,
   "id": "7d5d4cac",
   "metadata": {},
   "outputs": [
    {
     "data": {
      "text/latex": [
       "$\\displaystyle \\left[\\begin{matrix}\\cos{\\left(P \\right)} & 0 & \\sin{\\left(P \\right)}\\\\0 & 1 & 0\\\\- \\sin{\\left(P \\right)} & 0 & \\cos{\\left(P \\right)}\\end{matrix}\\right]$"
      ],
      "text/plain": [
       "⎡cos(P)   0  sin(P)⎤\n",
       "⎢                  ⎥\n",
       "⎢   0     1    0   ⎥\n",
       "⎢                  ⎥\n",
       "⎣-sin(P)  0  cos(P)⎦"
      ]
     },
     "execution_count": 56,
     "metadata": {},
     "output_type": "execute_result"
    }
   ],
   "source": [
    "R_y"
   ]
  },
  {
   "cell_type": "code",
   "execution_count": 57,
   "id": "1010e06f",
   "metadata": {},
   "outputs": [
    {
     "data": {
      "text/latex": [
       "$\\displaystyle \\left[\\begin{matrix}\\cos{\\left(K \\right)} & - \\sin{\\left(K \\right)} & 0\\\\\\sin{\\left(K \\right)} & \\cos{\\left(K \\right)} & 0\\\\0 & 0 & 1\\end{matrix}\\right]$"
      ],
      "text/plain": [
       "⎡cos(K)  -sin(K)  0⎤\n",
       "⎢                  ⎥\n",
       "⎢sin(K)  cos(K)   0⎥\n",
       "⎢                  ⎥\n",
       "⎣  0        0     1⎦"
      ]
     },
     "execution_count": 57,
     "metadata": {},
     "output_type": "execute_result"
    }
   ],
   "source": [
    "R_z"
   ]
  },
  {
   "cell_type": "code",
   "execution_count": 58,
   "id": "e08c6f58",
   "metadata": {},
   "outputs": [],
   "source": [
    "R = R_z*R_y*R_x"
   ]
  },
  {
   "cell_type": "code",
   "execution_count": 59,
   "id": "caeafa68",
   "metadata": {},
   "outputs": [
    {
     "data": {
      "text/latex": [
       "$\\displaystyle \\left[\\begin{matrix}\\cos{\\left(K \\right)} \\cos{\\left(P \\right)} & - \\sin{\\left(K \\right)} \\cos{\\left(W \\right)} + \\sin{\\left(P \\right)} \\sin{\\left(W \\right)} \\cos{\\left(K \\right)} & \\sin{\\left(K \\right)} \\sin{\\left(W \\right)} + \\sin{\\left(P \\right)} \\cos{\\left(K \\right)} \\cos{\\left(W \\right)}\\\\\\sin{\\left(K \\right)} \\cos{\\left(P \\right)} & \\sin{\\left(K \\right)} \\sin{\\left(P \\right)} \\sin{\\left(W \\right)} + \\cos{\\left(K \\right)} \\cos{\\left(W \\right)} & \\sin{\\left(K \\right)} \\sin{\\left(P \\right)} \\cos{\\left(W \\right)} - \\sin{\\left(W \\right)} \\cos{\\left(K \\right)}\\\\- \\sin{\\left(P \\right)} & \\sin{\\left(W \\right)} \\cos{\\left(P \\right)} & \\cos{\\left(P \\right)} \\cos{\\left(W \\right)}\\end{matrix}\\right]$"
      ],
      "text/plain": [
       "⎡cos(K)⋅cos(P)  -sin(K)⋅cos(W) + sin(P)⋅sin(W)⋅cos(K)  sin(K)⋅sin(W) + sin(P)⋅\n",
       "⎢                                                                             \n",
       "⎢sin(K)⋅cos(P)  sin(K)⋅sin(P)⋅sin(W) + cos(K)⋅cos(W)   sin(K)⋅sin(P)⋅cos(W) - \n",
       "⎢                                                                             \n",
       "⎣   -sin(P)                 sin(W)⋅cos(P)                         cos(P)⋅cos(W\n",
       "\n",
       "cos(K)⋅cos(W)⎤\n",
       "             ⎥\n",
       "sin(W)⋅cos(K)⎥\n",
       "             ⎥\n",
       ")            ⎦"
      ]
     },
     "execution_count": 59,
     "metadata": {},
     "output_type": "execute_result"
    }
   ],
   "source": [
    "R"
   ]
  },
  {
   "cell_type": "code",
   "execution_count": 73,
   "id": "fb79d613",
   "metadata": {},
   "outputs": [],
   "source": [
    "R_x = sy.Matrix([[1,0,0],\n",
    "               [0, sy.cos(b[3]), -1*sy.sin(b[3])], \n",
    "               [0, sy.sin(b[3]), sy.cos(b[3])]])\n",
    "\n",
    "R_y = sy.Matrix([[sy.cos(b[4]),0,sy.sin(b[4])],\n",
    "               [0, 1, 0], \n",
    "               [-1*sy.sin(b[4]), 0, sy.cos(b[4])]])\n",
    "\n",
    "R_z = sy.Matrix([[sy.cos(b[5]),-1*sy.sin(b[5]),0],\n",
    "               [sy.sin(b[5]), sy.cos(b[5]), 0], \n",
    "               [0, 0, 1]])\n",
    "R_b =  R_z*R_y*R_x"
   ]
  },
  {
   "cell_type": "markdown",
   "id": "05625816",
   "metadata": {},
   "source": [
    "# Make the vectors"
   ]
  },
  {
   "cell_type": "code",
   "execution_count": 97,
   "id": "b00f434f",
   "metadata": {},
   "outputs": [],
   "source": [
    "r_eop = sy.Matrix([ins[0],ins[1],ins[2]])\n",
    "r_b = sy.Matrix([b[0],b[1],b[2]])\n",
    "r_pt = sy.Matrix([pt[0],pt[1],pt[2]])\n",
    "r_plane = sy.Matrix([plane[0],plane[1],plane[2]])"
   ]
  },
  {
   "cell_type": "code",
   "execution_count": 98,
   "id": "1943d956",
   "metadata": {},
   "outputs": [],
   "source": [
    "fx_1 = r_eop + R*r_b + R*R_b*r_pt\n",
    "fx = fx_1.dot(r_plane) + plane[3]"
   ]
  },
  {
   "cell_type": "markdown",
   "id": "5523face",
   "metadata": {},
   "source": [
    "# Do the Derivitives"
   ]
  },
  {
   "cell_type": "code",
   "execution_count": 112,
   "id": "1126f0f9",
   "metadata": {},
   "outputs": [],
   "source": [
    "# d/d b\n",
    "d_fx_bx = sy.Derivative(fx,b[0] ).doit()\n",
    "d_fx_by = sy.Derivative(fx,b[1] ).doit()\n",
    "d_fx_bz = sy.Derivative(fx,b[2] ).doit()\n",
    "\n",
    "d_fx_bw = sy.Derivative(fx,b[3] ).doit()\n",
    "d_fx_bp = sy.Derivative(fx,b[4] ).doit()\n",
    "d_fx_bk = sy.Derivative(fx,b[5] ).doit()\n",
    "\n",
    "# d/d plane\n",
    "d_fx_a = sy.Derivative(fx,plane[0] ).doit()\n",
    "d_fx_b = sy.Derivative(fx,plane[1] ).doit()\n",
    "d_fx_c = sy.Derivative(fx,plane[2] ).doit()\n",
    "d_fx_d = sy.Derivative(fx,plane[3] ).doit()\n"
   ]
  },
  {
   "cell_type": "code",
   "execution_count": 119,
   "id": "374f02ab",
   "metadata": {},
   "outputs": [
    {
     "data": {
      "image/png": "[encoded data removed]",
      "text/latex": [
       "$\\displaystyle a \\cos{\\left(K \\right)} \\cos{\\left(P \\right)} + b \\sin{\\left(K \\right)} \\cos{\\left(P \\right)} - c \\sin{\\left(P \\right)}$"
      ],
      "text/plain": [
       "a⋅cos(K)⋅cos(P) + b⋅sin(K)⋅cos(P) - c⋅sin(P)"
      ]
     },
     "execution_count": 119,
     "metadata": {},
     "output_type": "execute_result"
    }
   ],
   "source": [
    "d_fx_bx"
   ]
  },
  {
   "cell_type": "code",
   "execution_count": null,
   "id": "d55861c5",
   "metadata": {},
   "outputs": [],
   "source": []
  }
 ],
 "metadata": {
  "kernelspec": {
   "display_name": "development",
   "language": "python",
   "name": "development"
  },
  "language_info": {
   "codemirror_mode": {
    "name": "ipython",
    "version": 3
   },
   "file_extension": ".py",
   "mimetype": "text/x-python",
   "name": "python",
   "nbconvert_exporter": "python",
   "pygments_lexer": "ipython3",
   "version": "3.8.5"
  }
 },
 "nbformat": 4,
 "nbformat_minor": 5
}
