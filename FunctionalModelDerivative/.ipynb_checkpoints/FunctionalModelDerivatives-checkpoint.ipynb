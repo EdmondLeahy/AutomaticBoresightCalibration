{
 "cells": [
  {
   "cell_type": "code",
   "execution_count": 1,
   "id": "9e992034",
   "metadata": {},
   "outputs": [],
   "source": [
    "import sympy as sy\n",
    "import re\n",
    "from sympy.codegen.ast import real, float80\n",
    "from sympy.printing import ccode, fcode\n",
    "sy.init_printing()"
   ]
  },
  {
   "cell_type": "code",
   "execution_count": 14,
   "id": "47c69d06",
   "metadata": {},
   "outputs": [],
   "source": [
    "b = sy.symbols(['x_bjg','y_bjg','z_bjg', 'w_bjg', 'phi_bjg', 'K_bjg'])\n",
    "ins = sy.symbols(['x_Sjb','y_Sjb','z_Sjb', 'w_Sb', 'phi_Sb', 'K_Sb'])\n",
    "pt = sy.symbols(['x_sj', 'y_sj', 'z_sj'])\n",
    "plane = sy.symbols(['n_xpg', 'n_ypg', 'n_zpg', 'n_dpg'])"
   ]
  },
  {
   "cell_type": "markdown",
   "id": "a288cf85",
   "metadata": {},
   "source": [
    "# Make the Rotation matrix"
   ]
  },
  {
   "cell_type": "code",
   "execution_count": 15,
   "id": "f653e21f",
   "metadata": {},
   "outputs": [],
   "source": [
    "R_x = sy.Matrix([[1,0,0],\n",
    "               [0, sy.cos(ins[3]), -1*sy.sin(ins[3])], \n",
    "               [0, sy.sin(ins[3]), sy.cos(ins[3])]])\n",
    "\n",
    "R_y = sy.Matrix([[sy.cos(ins[4]),0,sy.sin(ins[4])],\n",
    "               [0, 1, 0], \n",
    "               [-1*sy.sin(ins[4]), 0, sy.cos(ins[4])]])\n",
    "\n",
    "R_z = sy.Matrix([[sy.cos(ins[5]),-1*sy.sin(ins[5]),0],\n",
    "               [sy.sin(ins[5]), sy.cos(ins[5]), 0], \n",
    "               [0, 0, 1]])"
   ]
  },
  {
   "cell_type": "code",
   "execution_count": 16,
   "id": "fa544974",
   "metadata": {},
   "outputs": [
    {
     "data": {
      "text/latex": [
       "$\\displaystyle \\left[\\begin{matrix}1 & 0 & 0\\\\0 & \\cos{\\left(w_{Sb} \\right)} & - \\sin{\\left(w_{Sb} \\right)}\\\\0 & \\sin{\\left(w_{Sb} \\right)} & \\cos{\\left(w_{Sb} \\right)}\\end{matrix}\\right]$"
      ],
      "text/plain": [
       "⎡1      0          0     ⎤\n",
       "⎢                        ⎥\n",
       "⎢0  cos(w_Sb)  -sin(w_Sb)⎥\n",
       "⎢                        ⎥\n",
       "⎣0  sin(w_Sb)  cos(w_Sb) ⎦"
      ]
     },
     "execution_count": 16,
     "metadata": {},
     "output_type": "execute_result"
    }
   ],
   "source": [
    "R_x"
   ]
  },
  {
   "cell_type": "code",
   "execution_count": 17,
   "id": "13ba56ef",
   "metadata": {},
   "outputs": [
    {
     "data": {
      "text/latex": [
       "$\\displaystyle \\left[\\begin{matrix}\\cos{\\left(\\phi_{Sb} \\right)} & 0 & \\sin{\\left(\\phi_{Sb} \\right)}\\\\0 & 1 & 0\\\\- \\sin{\\left(\\phi_{Sb} \\right)} & 0 & \\cos{\\left(\\phi_{Sb} \\right)}\\end{matrix}\\right]$"
      ],
      "text/plain": [
       "⎡cos(φ_Sb)   0  sin(φ_Sb)⎤\n",
       "⎢                        ⎥\n",
       "⎢    0       1      0    ⎥\n",
       "⎢                        ⎥\n",
       "⎣-sin(φ_Sb)  0  cos(φ_Sb)⎦"
      ]
     },
     "execution_count": 17,
     "metadata": {},
     "output_type": "execute_result"
    }
   ],
   "source": [
    "R_y"
   ]
  },
  {
   "cell_type": "code",
   "execution_count": 18,
   "id": "cb87d0c1",
   "metadata": {},
   "outputs": [
    {
     "data": {
      "text/latex": [
       "$\\displaystyle \\left[\\begin{matrix}\\cos{\\left(K_{Sb} \\right)} & - \\sin{\\left(K_{Sb} \\right)} & 0\\\\\\sin{\\left(K_{Sb} \\right)} & \\cos{\\left(K_{Sb} \\right)} & 0\\\\0 & 0 & 1\\end{matrix}\\right]$"
      ],
      "text/plain": [
       "⎡cos(K_Sb)  -sin(K_Sb)  0⎤\n",
       "⎢                        ⎥\n",
       "⎢sin(K_Sb)  cos(K_Sb)   0⎥\n",
       "⎢                        ⎥\n",
       "⎣    0          0       1⎦"
      ]
     },
     "execution_count": 18,
     "metadata": {},
     "output_type": "execute_result"
    }
   ],
   "source": [
    "R_z"
   ]
  },
  {
   "cell_type": "code",
   "execution_count": 19,
   "id": "493cb277",
   "metadata": {},
   "outputs": [],
   "source": [
    "R = R_z*R_y*R_x"
   ]
  },
  {
   "cell_type": "code",
   "execution_count": 20,
   "id": "24aa4c18",
   "metadata": {},
   "outputs": [
    {
     "data": {
      "text/latex": [
       "$\\displaystyle \\left[\\begin{matrix}\\cos{\\left(K_{Sb} \\right)} \\cos{\\left(\\phi_{Sb} \\right)} & - \\sin{\\left(K_{Sb} \\right)} \\cos{\\left(w_{Sb} \\right)} + \\sin{\\left(\\phi_{Sb} \\right)} \\sin{\\left(w_{Sb} \\right)} \\cos{\\left(K_{Sb} \\right)} & \\sin{\\left(K_{Sb} \\right)} \\sin{\\left(w_{Sb} \\right)} + \\sin{\\left(\\phi_{Sb} \\right)} \\cos{\\left(K_{Sb} \\right)} \\cos{\\left(w_{Sb} \\right)}\\\\\\sin{\\left(K_{Sb} \\right)} \\cos{\\left(\\phi_{Sb} \\right)} & \\sin{\\left(K_{Sb} \\right)} \\sin{\\left(\\phi_{Sb} \\right)} \\sin{\\left(w_{Sb} \\right)} + \\cos{\\left(K_{Sb} \\right)} \\cos{\\left(w_{Sb} \\right)} & \\sin{\\left(K_{Sb} \\right)} \\sin{\\left(\\phi_{Sb} \\right)} \\cos{\\left(w_{Sb} \\right)} - \\sin{\\left(w_{Sb} \\right)} \\cos{\\left(K_{Sb} \\right)}\\\\- \\sin{\\left(\\phi_{Sb} \\right)} & \\sin{\\left(w_{Sb} \\right)} \\cos{\\left(\\phi_{Sb} \\right)} & \\cos{\\left(\\phi_{Sb} \\right)} \\cos{\\left(w_{Sb} \\right)}\\end{matrix}\\right]$"
      ],
      "text/plain": [
       "⎡cos(K_Sb)⋅cos(φ_Sb)  -sin(K_Sb)⋅cos(w_Sb) + sin(φ_Sb)⋅sin(w_Sb)⋅cos(K_Sb)  si\n",
       "⎢                                                                             \n",
       "⎢sin(K_Sb)⋅cos(φ_Sb)  sin(K_Sb)⋅sin(φ_Sb)⋅sin(w_Sb) + cos(K_Sb)⋅cos(w_Sb)   si\n",
       "⎢                                                                             \n",
       "⎣    -sin(φ_Sb)                       sin(w_Sb)⋅cos(φ_Sb)                     \n",
       "\n",
       "n(K_Sb)⋅sin(w_Sb) + sin(φ_Sb)⋅cos(K_Sb)⋅cos(w_Sb)⎤\n",
       "                                                 ⎥\n",
       "n(K_Sb)⋅sin(φ_Sb)⋅cos(w_Sb) - sin(w_Sb)⋅cos(K_Sb)⎥\n",
       "                                                 ⎥\n",
       "              cos(φ_Sb)⋅cos(w_Sb)                ⎦"
      ]
     },
     "execution_count": 20,
     "metadata": {},
     "output_type": "execute_result"
    }
   ],
   "source": [
    "R"
   ]
  },
  {
   "cell_type": "code",
   "execution_count": 21,
   "id": "5286d1ce",
   "metadata": {},
   "outputs": [],
   "source": [
    "R_x = sy.Matrix([[1,0,0],\n",
    "               [0, sy.cos(b[3]), -1*sy.sin(b[3])], \n",
    "               [0, sy.sin(b[3]), sy.cos(b[3])]])\n",
    "\n",
    "R_y = sy.Matrix([[sy.cos(b[4]),0,sy.sin(b[4])],\n",
    "               [0, 1, 0], \n",
    "               [-1*sy.sin(b[4]), 0, sy.cos(b[4])]])\n",
    "\n",
    "R_z = sy.Matrix([[sy.cos(b[5]),-1*sy.sin(b[5]),0],\n",
    "               [sy.sin(b[5]), sy.cos(b[5]), 0], \n",
    "               [0, 0, 1]])\n",
    "R_b =  R_z*R_y*R_x"
   ]
  },
  {
   "cell_type": "markdown",
   "id": "5a01bfe0",
   "metadata": {},
   "source": [
    "# Make the vectors"
   ]
  },
  {
   "cell_type": "code",
   "execution_count": 22,
   "id": "c707acc9",
   "metadata": {},
   "outputs": [],
   "source": [
    "r_eop = sy.Matrix([ins[0],ins[1],ins[2]])\n",
    "r_b = sy.Matrix([b[0],b[1],b[2]])\n",
    "r_pt = sy.Matrix([pt[0],pt[1],pt[2]])\n",
    "r_plane = sy.Matrix([plane[0],plane[1],plane[2]])"
   ]
  },
  {
   "cell_type": "code",
   "execution_count": 23,
   "id": "0f9f1d8f",
   "metadata": {},
   "outputs": [],
   "source": [
    "fx_1 = r_eop + R*r_b + R*R_b*r_pt\n",
    "fx = fx_1.dot(r_plane) + plane[3]"
   ]
  },
  {
   "cell_type": "markdown",
   "id": "8de34107",
   "metadata": {},
   "source": [
    "# Do the Derivitives"
   ]
  },
  {
   "cell_type": "code",
   "execution_count": 24,
   "id": "2590078a",
   "metadata": {},
   "outputs": [],
   "source": [
    "# d/d b\n",
    "d_fx_bx = sy.Derivative(fx,b[0] ).doit()\n",
    "d_fx_by = sy.Derivative(fx,b[1] ).doit()\n",
    "d_fx_bz = sy.Derivative(fx,b[2] ).doit()\n",
    "\n",
    "d_fx_bw = sy.Derivative(fx,b[3] ).doit()\n",
    "d_fx_bp = sy.Derivative(fx,b[4] ).doit()\n",
    "d_fx_bk = sy.Derivative(fx,b[5] ).doit()\n",
    "\n",
    "# d/d plane\n",
    "d_fx_a = sy.Derivative(fx,plane[0] ).doit()\n",
    "d_fx_b = sy.Derivative(fx,plane[1] ).doit()\n",
    "d_fx_c = sy.Derivative(fx,plane[2] ).doit()\n",
    "d_fx_d = sy.Derivative(fx,plane[3] ).doit()\n"
   ]
  },
  {
   "cell_type": "code",
   "execution_count": 25,
   "id": "479cbd7c",
   "metadata": {},
   "outputs": [
    {
     "data": {
      "image/png": "[encoded data removed]",
      "text/latex": [
       "$\\displaystyle n_{xpg} \\left(y_{sj} \\left(\\left(\\sin{\\left(K_{Sb} \\right)} \\sin{\\left(w_{Sb} \\right)} + \\sin{\\left(\\phi_{Sb} \\right)} \\cos{\\left(K_{Sb} \\right)} \\cos{\\left(w_{Sb} \\right)}\\right) \\cos{\\left(\\phi_{bjg} \\right)} \\cos{\\left(w_{bjg} \\right)} + \\left(- \\sin{\\left(K_{Sb} \\right)} \\cos{\\left(w_{Sb} \\right)} + \\sin{\\left(\\phi_{Sb} \\right)} \\sin{\\left(w_{Sb} \\right)} \\cos{\\left(K_{Sb} \\right)}\\right) \\left(\\sin{\\left(K_{bjg} \\right)} \\sin{\\left(\\phi_{bjg} \\right)} \\cos{\\left(w_{bjg} \\right)} - \\sin{\\left(w_{bjg} \\right)} \\cos{\\left(K_{bjg} \\right)}\\right) + \\left(\\sin{\\left(K_{bjg} \\right)} \\sin{\\left(w_{bjg} \\right)} + \\sin{\\left(\\phi_{bjg} \\right)} \\cos{\\left(K_{bjg} \\right)} \\cos{\\left(w_{bjg} \\right)}\\right) \\cos{\\left(K_{Sb} \\right)} \\cos{\\left(\\phi_{Sb} \\right)}\\right) + z_{sj} \\left(- \\left(\\sin{\\left(K_{Sb} \\right)} \\sin{\\left(w_{Sb} \\right)} + \\sin{\\left(\\phi_{Sb} \\right)} \\cos{\\left(K_{Sb} \\right)} \\cos{\\left(w_{Sb} \\right)}\\right) \\sin{\\left(w_{bjg} \\right)} \\cos{\\left(\\phi_{bjg} \\right)} + \\left(- \\sin{\\left(K_{Sb} \\right)} \\cos{\\left(w_{Sb} \\right)} + \\sin{\\left(\\phi_{Sb} \\right)} \\sin{\\left(w_{Sb} \\right)} \\cos{\\left(K_{Sb} \\right)}\\right) \\left(- \\sin{\\left(K_{bjg} \\right)} \\sin{\\left(\\phi_{bjg} \\right)} \\sin{\\left(w_{bjg} \\right)} - \\cos{\\left(K_{bjg} \\right)} \\cos{\\left(w_{bjg} \\right)}\\right) + \\left(\\sin{\\left(K_{bjg} \\right)} \\cos{\\left(w_{bjg} \\right)} - \\sin{\\left(\\phi_{bjg} \\right)} \\sin{\\left(w_{bjg} \\right)} \\cos{\\left(K_{bjg} \\right)}\\right) \\cos{\\left(K_{Sb} \\right)} \\cos{\\left(\\phi_{Sb} \\right)}\\right)\\right) + n_{ypg} \\left(y_{sj} \\left(\\left(\\sin{\\left(K_{bjg} \\right)} \\sin{\\left(w_{bjg} \\right)} + \\sin{\\left(\\phi_{bjg} \\right)} \\cos{\\left(K_{bjg} \\right)} \\cos{\\left(w_{bjg} \\right)}\\right) \\sin{\\left(K_{Sb} \\right)} \\cos{\\left(\\phi_{Sb} \\right)} + \\left(\\sin{\\left(K_{Sb} \\right)} \\sin{\\left(\\phi_{Sb} \\right)} \\sin{\\left(w_{Sb} \\right)} + \\cos{\\left(K_{Sb} \\right)} \\cos{\\left(w_{Sb} \\right)}\\right) \\left(\\sin{\\left(K_{bjg} \\right)} \\sin{\\left(\\phi_{bjg} \\right)} \\cos{\\left(w_{bjg} \\right)} - \\sin{\\left(w_{bjg} \\right)} \\cos{\\left(K_{bjg} \\right)}\\right) + \\left(\\sin{\\left(K_{Sb} \\right)} \\sin{\\left(\\phi_{Sb} \\right)} \\cos{\\left(w_{Sb} \\right)} - \\sin{\\left(w_{Sb} \\right)} \\cos{\\left(K_{Sb} \\right)}\\right) \\cos{\\left(\\phi_{bjg} \\right)} \\cos{\\left(w_{bjg} \\right)}\\right) + z_{sj} \\left(\\left(\\sin{\\left(K_{bjg} \\right)} \\cos{\\left(w_{bjg} \\right)} - \\sin{\\left(\\phi_{bjg} \\right)} \\sin{\\left(w_{bjg} \\right)} \\cos{\\left(K_{bjg} \\right)}\\right) \\sin{\\left(K_{Sb} \\right)} \\cos{\\left(\\phi_{Sb} \\right)} + \\left(\\sin{\\left(K_{Sb} \\right)} \\sin{\\left(\\phi_{Sb} \\right)} \\sin{\\left(w_{Sb} \\right)} + \\cos{\\left(K_{Sb} \\right)} \\cos{\\left(w_{Sb} \\right)}\\right) \\left(- \\sin{\\left(K_{bjg} \\right)} \\sin{\\left(\\phi_{bjg} \\right)} \\sin{\\left(w_{bjg} \\right)} - \\cos{\\left(K_{bjg} \\right)} \\cos{\\left(w_{bjg} \\right)}\\right) - \\left(\\sin{\\left(K_{Sb} \\right)} \\sin{\\left(\\phi_{Sb} \\right)} \\cos{\\left(w_{Sb} \\right)} - \\sin{\\left(w_{Sb} \\right)} \\cos{\\left(K_{Sb} \\right)}\\right) \\sin{\\left(w_{bjg} \\right)} \\cos{\\left(\\phi_{bjg} \\right)}\\right)\\right) + n_{zpg} \\left(y_{sj} \\left(\\left(- \\sin{\\left(K_{bjg} \\right)} \\sin{\\left(w_{bjg} \\right)} - \\sin{\\left(\\phi_{bjg} \\right)} \\cos{\\left(K_{bjg} \\right)} \\cos{\\left(w_{bjg} \\right)}\\right) \\sin{\\left(\\phi_{Sb} \\right)} + \\left(\\sin{\\left(K_{bjg} \\right)} \\sin{\\left(\\phi_{bjg} \\right)} \\cos{\\left(w_{bjg} \\right)} - \\sin{\\left(w_{bjg} \\right)} \\cos{\\left(K_{bjg} \\right)}\\right) \\sin{\\left(w_{Sb} \\right)} \\cos{\\left(\\phi_{Sb} \\right)} + \\cos{\\left(\\phi_{Sb} \\right)} \\cos{\\left(\\phi_{bjg} \\right)} \\cos{\\left(w_{Sb} \\right)} \\cos{\\left(w_{bjg} \\right)}\\right) + z_{sj} \\left(\\left(- \\sin{\\left(K_{bjg} \\right)} \\cos{\\left(w_{bjg} \\right)} + \\sin{\\left(\\phi_{bjg} \\right)} \\sin{\\left(w_{bjg} \\right)} \\cos{\\left(K_{bjg} \\right)}\\right) \\sin{\\left(\\phi_{Sb} \\right)} + \\left(- \\sin{\\left(K_{bjg} \\right)} \\sin{\\left(\\phi_{bjg} \\right)} \\sin{\\left(w_{bjg} \\right)} - \\cos{\\left(K_{bjg} \\right)} \\cos{\\left(w_{bjg} \\right)}\\right) \\sin{\\left(w_{Sb} \\right)} \\cos{\\left(\\phi_{Sb} \\right)} - \\sin{\\left(w_{bjg} \\right)} \\cos{\\left(\\phi_{Sb} \\right)} \\cos{\\left(\\phi_{bjg} \\right)} \\cos{\\left(w_{Sb} \\right)}\\right)\\right)$"
      ],
      "text/plain": [
       "n_xpg⋅(y_sj⋅((sin(K_Sb)⋅sin(w_Sb) + sin(φ_Sb)⋅cos(K_Sb)⋅cos(w_Sb))⋅cos(φ_bjg)⋅\n",
       "cos(w_bjg) + (-sin(K_Sb)⋅cos(w_Sb) + sin(φ_Sb)⋅sin(w_Sb)⋅cos(K_Sb))⋅(sin(K_bjg\n",
       ")⋅sin(φ_bjg)⋅cos(w_bjg) - sin(w_bjg)⋅cos(K_bjg)) + (sin(K_bjg)⋅sin(w_bjg) + si\n",
       "n(φ_bjg)⋅cos(K_bjg)⋅cos(w_bjg))⋅cos(K_Sb)⋅cos(φ_Sb)) + z_sj⋅(-(sin(K_Sb)⋅sin(w\n",
       "_Sb) + sin(φ_Sb)⋅cos(K_Sb)⋅cos(w_Sb))⋅sin(w_bjg)⋅cos(φ_bjg) + (-sin(K_Sb)⋅cos(\n",
       "w_Sb) + sin(φ_Sb)⋅sin(w_Sb)⋅cos(K_Sb))⋅(-sin(K_bjg)⋅sin(φ_bjg)⋅sin(w_bjg) - co\n",
       "s(K_bjg)⋅cos(w_bjg)) + (sin(K_bjg)⋅cos(w_bjg) - sin(φ_bjg)⋅sin(w_bjg)⋅cos(K_bj\n",
       "g))⋅cos(K_Sb)⋅cos(φ_Sb))) + n_ypg⋅(y_sj⋅((sin(K_bjg)⋅sin(w_bjg) + sin(φ_bjg)⋅c\n",
       "os(K_bjg)⋅cos(w_bjg))⋅sin(K_Sb)⋅cos(φ_Sb) + (sin(K_Sb)⋅sin(φ_Sb)⋅sin(w_Sb) + c\n",
       "os(K_Sb)⋅cos(w_Sb))⋅(sin(K_bjg)⋅sin(φ_bjg)⋅cos(w_bjg) - sin(w_bjg)⋅cos(K_bjg))\n",
       " + (sin(K_Sb)⋅sin(φ_Sb)⋅cos(w_Sb) - sin(w_Sb)⋅cos(K_Sb))⋅cos(φ_bjg)⋅cos(w_bjg)\n",
       ") + z_sj⋅((sin(K_bjg)⋅cos(w_bjg) - sin(φ_bjg)⋅sin(w_bjg)⋅cos(K_bjg))⋅sin(K_Sb)\n",
       "⋅cos(φ_Sb) + (sin(K_Sb)⋅sin(φ_Sb)⋅sin(w_Sb) + cos(K_Sb)⋅cos(w_Sb))⋅(-sin(K_bjg\n",
       ")⋅sin(φ_bjg)⋅sin(w_bjg) - cos(K_bjg)⋅cos(w_bjg)) - (sin(K_Sb)⋅sin(φ_Sb)⋅cos(w_\n",
       "Sb) - sin(w_Sb)⋅cos(K_Sb))⋅sin(w_bjg)⋅cos(φ_bjg))) + n_zpg⋅(y_sj⋅((-sin(K_bjg)\n",
       "⋅sin(w_bjg) - sin(φ_bjg)⋅cos(K_bjg)⋅cos(w_bjg))⋅sin(φ_Sb) + (sin(K_bjg)⋅sin(φ_\n",
       "bjg)⋅cos(w_bjg) - sin(w_bjg)⋅cos(K_bjg))⋅sin(w_Sb)⋅cos(φ_Sb) + cos(φ_Sb)⋅cos(φ\n",
       "_bjg)⋅cos(w_Sb)⋅cos(w_bjg)) + z_sj⋅((-sin(K_bjg)⋅cos(w_bjg) + sin(φ_bjg)⋅sin(w\n",
       "_bjg)⋅cos(K_bjg))⋅sin(φ_Sb) + (-sin(K_bjg)⋅sin(φ_bjg)⋅sin(w_bjg) - cos(K_bjg)⋅\n",
       "cos(w_bjg))⋅sin(w_Sb)⋅cos(φ_Sb) - sin(w_bjg)⋅cos(φ_Sb)⋅cos(φ_bjg)⋅cos(w_Sb)))"
      ]
     },
     "execution_count": 25,
     "metadata": {},
     "output_type": "execute_result"
    }
   ],
   "source": [
    "d_fx_bw"
   ]
  },
  {
   "cell_type": "markdown",
   "id": "7ac19233",
   "metadata": {},
   "source": [
    "# Write them to file"
   ]
  },
  {
   "cell_type": "code",
   "execution_count": null,
   "id": "0d3c875c",
   "metadata": {},
   "outputs": [],
   "source": []
  },
  {
   "cell_type": "markdown",
   "id": "d34defaa",
   "metadata": {},
   "source": [
    "# Replace the symbols"
   ]
  },
  {
   "cell_type": "code",
   "execution_count": 218,
   "id": "83a16c9b",
   "metadata": {},
   "outputs": [],
   "source": [
    "str_test = '𝑎(𝑝𝑡𝑦((sin(𝐾)sin(𝑊)+sin(𝑃)cos(𝐾)cos(𝑊))cos(𝑝)cos(𝑤)+(−sin(𝐾)cos(𝑊)+sin(𝑃)sin(𝑊)cos(𝐾))(sin(𝑘)sin(𝑝)cos(𝑤)−sin(𝑤)cos(𝑘))+(sin(𝑘)sin(𝑤)+sin(𝑝)cos(𝑘)cos(𝑤))cos(𝐾)cos(𝑃))+𝑝𝑡𝑧(−(sin(𝐾)sin(𝑊)+sin(𝑃)cos(𝐾)cos(𝑊))sin(𝑤)cos(𝑝)+(−sin(𝐾)cos(𝑊)+sin(𝑃)sin(𝑊)cos(𝐾))(−sin(𝑘)sin(𝑝)sin(𝑤)−cos(𝑘)cos(𝑤))+(sin(𝑘)cos(𝑤)−sin(𝑝)sin(𝑤)cos(𝑘))cos(𝐾)cos(𝑃)))+𝑏(𝑝𝑡𝑦((sin(𝑘)sin(𝑤)+sin(𝑝)cos(𝑘)cos(𝑤))sin(𝐾)cos(𝑃)+(sin(𝐾)sin(𝑃)sin(𝑊)+cos(𝐾)cos(𝑊))(sin(𝑘)sin(𝑝)cos(𝑤)−sin(𝑤)cos(𝑘))+(sin(𝐾)sin(𝑃)cos(𝑊)−sin(𝑊)cos(𝐾))cos(𝑝)cos(𝑤))+𝑝𝑡𝑧((sin(𝑘)cos(𝑤)−sin(𝑝)sin(𝑤)cos(𝑘))sin(𝐾)cos(𝑃)+(sin(𝐾)sin(𝑃)sin(𝑊)+cos(𝐾)cos(𝑊))(−sin(𝑘)sin(𝑝)sin(𝑤)−cos(𝑘)cos(𝑤))−(sin(𝐾)sin(𝑃)cos(𝑊)−sin(𝑊)cos(𝐾))sin(𝑤)cos(𝑝)))+𝑐(𝑝𝑡𝑦((−sin(𝑘)sin(𝑤)−sin(𝑝)cos(𝑘)cos(𝑤))sin(𝑃)+(sin(𝑘)sin(𝑝)cos(𝑤)−sin(𝑤)cos(𝑘))sin(𝑊)cos(𝑃)+cos(𝑃)cos(𝑊)cos(𝑝)cos(𝑤))+𝑝𝑡𝑧((−sin(𝑘)cos(𝑤)+sin(𝑝)sin(𝑤)cos(𝑘))sin(𝑃)+(−sin(𝑘)sin(𝑝)sin(𝑤)−cos(𝑘)cos(𝑤))sin(𝑊)cos(𝑃)−sin(𝑤)cos(𝑃)cos(𝑊)cos(𝑝)))'"
   ]
  },
  {
   "cell_type": "code",
   "execution_count": 249,
   "id": "4bf7e7ed",
   "metadata": {},
   "outputs": [],
   "source": [
    "def replace_symbs(string):\n",
    "    \n",
    "    \n",
    "#     find_lst = {'cos':'cosd', 'sin':'sind', \n",
    "#                 '𝑝𝑡𝑥': 'x_sj', '𝑝𝑡𝑦': 'y_sj', '𝑝𝑡𝑧':'z_sj',\n",
    "#                 '𝑥':'x_bjg','𝑦':'y_bjg','𝑧':'z_bjg', '𝑤':'w_bjg', '𝑝':'phi_bjg', '𝑘':'K_bjg',\n",
    "#                 '𝑋':'x_Sjb','𝑌':'y_Sjb','𝑍':'z_Sjb', '𝑊':'w_Sb', '𝑃':'phi_Sb', '𝐾':'K_Sb',\n",
    "#                 '𝑎':'n_xpg', '𝑏':'n_ypg', '𝑐':'n_zpg', '𝑑':'n_dpg',\n",
    "#                 '−':'-',\n",
    "#                '\\)cos':')*cos', '\\)sin':')*sin',\n",
    "#                '([^d+-])\\(':'\\\\1*('}\n",
    "\n",
    "\n",
    "    find_lst = {'cosl':'cosd', 'sinl':'sind', \n",
    "                '−':'-'}\n",
    "    \n",
    "\n",
    "    new_str = string\n",
    "    for f,r in find_lst.items():\n",
    "        new_str = re.sub(f,r,new_str)\n",
    "    \n",
    "    return new_str"
   ]
  },
  {
   "cell_type": "code",
   "execution_count": 240,
   "id": "b2aa5992",
   "metadata": {},
   "outputs": [
    {
     "data": {
      "text/plain": [
       "'n_xpg*(y_sj*((sind(K_Sb)*sind(w_Sb)+sind(phi_Sb)*cosd(K_Sb)*cosd(w_Sb))*cosd(phi_bjg)*cosd(w_bjg)+(-sind(K_Sb)*cosd(w_Sb)+sind(phi_Sb)*sind(w_Sb)*cosd(K_Sb))*(sind(K_bjg)*sind(phi_bjg)*cosd(w_bjg)-sind(w_bjg)*cosd(K_bjg))+(sind(K_bjg)*sind(w_bjg)+sind(phi_bjg)*cosd(K_bjg)*cosd(w_bjg))*cosd(K_Sb)*cosd(phi_Sb))+z_sj*(-(sind(K_Sb)*sind(w_Sb)+sind(phi_Sb)*cosd(K_Sb)*cosd(w_Sb))*sind(w_bjg)*cosd(phi_bjg)+(-sind(K_Sb)*cosd(w_Sb)+sind(phi_Sb)*sind(w_Sb)*cosd(K_Sb))*(-sind(K_bjg)*sind(phi_bjg)*sind(w_bjg)-cosd(K_bjg)*cosd(w_bjg))+(sind(K_bjg)*cosd(w_bjg)-sind(phi_bjg)*sind(w_bjg)*cosd(K_bjg))*cosd(K_Sb)*cosd(phi_Sb)))+n_ypg*(y_sj*((sind(K_bjg)*sind(w_bjg)+sind(phi_bjg)*cosd(K_bjg)*cosd(w_bjg))*sind(K_Sb)*cosd(phi_Sb)+(sind(K_Sb)*sind(phi_Sb)*sind(w_Sb)+cosd(K_Sb)*cosd(w_Sb))*(sind(K_bjg)*sind(phi_bjg)*cosd(w_bjg)-sind(w_bjg)*cosd(K_bjg))+(sind(K_Sb)*sind(phi_Sb)*cosd(w_Sb)-sind(w_Sb)*cosd(K_Sb))*cosd(phi_bjg)*cosd(w_bjg))+z_sj*((sind(K_bjg)*cosd(w_bjg)-sind(phi_bjg)*sind(w_bjg)*cosd(K_bjg))*sind(K_Sb)*cosd(phi_Sb)+(sind(K_Sb)*sind(phi_Sb)*sind(w_Sb)+cosd(K_Sb)*cosd(w_Sb))*(-sind(K_bjg)*sind(phi_bjg)*sind(w_bjg)-cosd(K_bjg)*cosd(w_bjg))-(sind(K_Sb)*sind(phi_Sb)*cosd(w_Sb)-sind(w_Sb)*cosd(K_Sb))*sind(w_bjg)*cosd(phi_bjg)))+n_zpg*(y_sj*((-sind(K_bjg)*sind(w_bjg)-sind(phi_bjg)*cosd(K_bjg)*cosd(w_bjg))*sind(phi_Sb)+(sind(K_bjg)*sind(phi_bjg)*cosd(w_bjg)-sind(w_bjg)*cosd(K_bjg))*sind(w_Sb)*cosd(phi_Sb)+cosd(phi_Sb)*cosd(w_Sb)*cosd(phi_bjg)*cosd(w_bjg))+z_sj*((-sind(K_bjg)*cosd(w_bjg)+sind(phi_bjg)*sind(w_bjg)*cosd(K_bjg))*sind(phi_Sb)+(-sind(K_bjg)*sind(phi_bjg)*sind(w_bjg)-cosd(K_bjg)*cosd(w_bjg))*sind(w_Sb)*cosd(phi_Sb)-sind(w_bjg)*cosd(phi_Sb)*cosd(w_Sb)*cosd(phi_bjg)))'"
      ]
     },
     "execution_count": 240,
     "metadata": {},
     "output_type": "execute_result"
    }
   ],
   "source": [
    "replace_symbs(str_test)"
   ]
  },
  {
   "cell_type": "code",
   "execution_count": 26,
   "id": "c6c1db2a",
   "metadata": {},
   "outputs": [
    {
     "data": {
      "text/plain": [
       "'E = n_xpg*(y_sj*((sinl(K_Sb)*sinl(w_Sb) + sinl(phi_Sb)*cosl(K_Sb)*cosl(w_Sb))*cosl(phi_bjg)*cosl(w_bjg) + (-sinl(K_Sb)*cosl(w_Sb) + sinl(phi_Sb)*sinl(w_Sb)*cosl(K_Sb))*(sinl(K_bjg)*sinl(phi_bjg)*cosl(w_bjg) - sinl(w_bjg)*cosl(K_bjg)) + (sinl(K_bjg)*sinl(w_bjg) + sinl(phi_bjg)*cosl(K_bjg)*cosl(w_bjg))*cosl(K_Sb)*cosl(phi_Sb)) + z_sj*(-(sinl(K_Sb)*sinl(w_Sb) + sinl(phi_Sb)*cosl(K_Sb)*cosl(w_Sb))*sinl(w_bjg)*cosl(phi_bjg) + (-sinl(K_Sb)*cosl(w_Sb) + sinl(phi_Sb)*sinl(w_Sb)*cosl(K_Sb))*(-sinl(K_bjg)*sinl(phi_bjg)*sinl(w_bjg) - cosl(K_bjg)*cosl(w_bjg)) + (sinl(K_bjg)*cosl(w_bjg) - sinl(phi_bjg)*sinl(w_bjg)*cosl(K_bjg))*cosl(K_Sb)*cosl(phi_Sb))) + n_ypg*(y_sj*((sinl(K_bjg)*sinl(w_bjg) + sinl(phi_bjg)*cosl(K_bjg)*cosl(w_bjg))*sinl(K_Sb)*cosl(phi_Sb) + (sinl(K_Sb)*sinl(phi_Sb)*sinl(w_Sb) + cosl(K_Sb)*cosl(w_Sb))*(sinl(K_bjg)*sinl(phi_bjg)*cosl(w_bjg) - sinl(w_bjg)*cosl(K_bjg)) + (sinl(K_Sb)*sinl(phi_Sb)*cosl(w_Sb) - sinl(w_Sb)*cosl(K_Sb))*cosl(phi_bjg)*cosl(w_bjg)) + z_sj*((sinl(K_bjg)*cosl(w_bjg) - sinl(phi_bjg)*sinl(w_bjg)*cosl(K_bjg))*sinl(K_Sb)*cosl(phi_Sb) + (sinl(K_Sb)*sinl(phi_Sb)*sinl(w_Sb) + cosl(K_Sb)*cosl(w_Sb))*(-sinl(K_bjg)*sinl(phi_bjg)*sinl(w_bjg) - cosl(K_bjg)*cosl(w_bjg)) - (sinl(K_Sb)*sinl(phi_Sb)*cosl(w_Sb) - sinl(w_Sb)*cosl(K_Sb))*sinl(w_bjg)*cosl(phi_bjg))) + n_zpg*(y_sj*((-sinl(K_bjg)*sinl(w_bjg) - sinl(phi_bjg)*cosl(K_bjg)*cosl(w_bjg))*sinl(phi_Sb) + (sinl(K_bjg)*sinl(phi_bjg)*cosl(w_bjg) - sinl(w_bjg)*cosl(K_bjg))*sinl(w_Sb)*cosl(phi_Sb) + cosl(phi_Sb)*cosl(phi_bjg)*cosl(w_Sb)*cosl(w_bjg)) + z_sj*((-sinl(K_bjg)*cosl(w_bjg) + sinl(phi_bjg)*sinl(w_bjg)*cosl(K_bjg))*sinl(phi_Sb) + (-sinl(K_bjg)*sinl(phi_bjg)*sinl(w_bjg) - cosl(K_bjg)*cosl(w_bjg))*sinl(w_Sb)*cosl(phi_Sb) - sinl(w_bjg)*cosl(phi_Sb)*cosl(phi_bjg)*cosl(w_Sb)));'"
      ]
     },
     "execution_count": 26,
     "metadata": {},
     "output_type": "execute_result"
    }
   ],
   "source": [
    "# print as c code\n",
    "code_out = ccode(d_fx_bw, assign_to=\"E\", type_aliases={real: float80})\n",
    "code_out"
   ]
  },
  {
   "cell_type": "code",
   "execution_count": 257,
   "id": "0094a21c",
   "metadata": {},
   "outputs": [
    {
     "data": {
      "text/plain": [
       "'E = n_xpg*(y_n_ypgjg_sj*((sinn_dpg(K_Sn_ypg)*sinn_dpg(w_Sn_ypg) + sinn_dpg(phi_Sn_ypg)*n_zpgosn_dpg(K_Sn_ypg)*n_zpgosn_dpg(w_Sn_ypg))*n_zpgosn_dpg(phi_n_ypgjg)*n_zpgosn_dpg(w_n_ypgjg) + (-sinn_dpg(K_Sn_ypg)*n_zpgosn_dpg(w_Sn_ypg) + sinn_dpg(phi_Sn_ypg)*sinn_dpg(w_Sn_ypg)*n_zpgosn_dpg(K_Sn_ypg))*(sinn_dpg(K_Sn_ypg_n_ypgjg)*sinn_dpg(phi_n_ypgjg)*n_zpgosn_dpg(w_n_ypgjg) - sinn_dpg(w_n_ypgjg)*n_zpgosn_dpg(K_Sn_ypg_n_ypgjg)) + (sinn_dpg(K_Sn_ypg_n_ypgjg)*sinn_dpg(w_n_ypgjg) + sinn_dpg(phi_n_ypgjg)*n_zpgosn_dpg(K_Sn_ypg_n_ypgjg)*n_zpgosn_dpg(w_n_ypgjg))*n_zpgosn_dpg(K_Sn_ypg)*n_zpgosn_dpg(phi_Sn_ypg)) + phi_n_ypgjgtz_n_ypgjg*(-(sinn_dpg(K_Sn_ypg)*sinn_dpg(w_Sn_ypg) + sinn_dpg(phi_Sn_ypg)*n_zpgosn_dpg(K_Sn_ypg)*n_zpgosn_dpg(w_Sn_ypg))*sinn_dpg(w_n_ypgjg)*n_zpgosn_dpg(phi_n_ypgjg) + (-sinn_dpg(K_Sn_ypg)*n_zpgosn_dpg(w_Sn_ypg) + sinn_dpg(phi_Sn_ypg)*sinn_dpg(w_Sn_ypg)*n_zpgosn_dpg(K_Sn_ypg))*(-sinn_dpg(K_Sn_ypg_n_ypgjg)*sinn_dpg(phi_n_ypgjg)*sinn_dpg(w_n_ypgjg) - n_zpgosn_dpg(K_Sn_ypg_n_ypgjg)*n_zpgosn_dpg(w_n_ypgjg)) + (sinn_dpg(K_Sn_ypg_n_ypgjg)*n_zpgosn_dpg(w_n_ypgjg) - sinn_dpg(phi_n_ypgjg)*sinn_dpg(w_n_ypgjg)*n_zpgosn_dpg(K_Sn_ypg_n_ypgjg))*n_zpgosn_dpg(K_Sn_ypg)*n_zpgosn_dpg(phi_Sn_ypg))) + n_ypg*(y_n_ypgjg_sj*((sinn_dpg(K_Sn_ypg_n_ypgjg)*sinn_dpg(w_n_ypgjg) + sinn_dpg(phi_n_ypgjg)*n_zpgosn_dpg(K_Sn_ypg_n_ypgjg)*n_zpgosn_dpg(w_n_ypgjg))*sinn_dpg(K_Sn_ypg)*n_zpgosn_dpg(phi_Sn_ypg) + (sinn_dpg(K_Sn_ypg)*sinn_dpg(phi_Sn_ypg)*sinn_dpg(w_Sn_ypg) + n_zpgosn_dpg(K_Sn_ypg)*n_zpgosn_dpg(w_Sn_ypg))*(sinn_dpg(K_Sn_ypg_n_ypgjg)*sinn_dpg(phi_n_ypgjg)*n_zpgosn_dpg(w_n_ypgjg) - sinn_dpg(w_n_ypgjg)*n_zpgosn_dpg(K_Sn_ypg_n_ypgjg)) + (sinn_dpg(K_Sn_ypg)*sinn_dpg(phi_Sn_ypg)*n_zpgosn_dpg(w_Sn_ypg) - sinn_dpg(w_Sn_ypg)*n_zpgosn_dpg(K_Sn_ypg))*n_zpgosn_dpg(phi_n_ypgjg)*n_zpgosn_dpg(w_n_ypgjg)) + phi_n_ypgjgtz_n_ypgjg*((sinn_dpg(K_Sn_ypg_n_ypgjg)*n_zpgosn_dpg(w_n_ypgjg) - sinn_dpg(phi_n_ypgjg)*sinn_dpg(w_n_ypgjg)*n_zpgosn_dpg(K_Sn_ypg_n_ypgjg))*sinn_dpg(K_Sn_ypg)*n_zpgosn_dpg(phi_Sn_ypg) + (sinn_dpg(K_Sn_ypg)*sinn_dpg(phi_Sn_ypg)*sinn_dpg(w_Sn_ypg) + n_zpgosn_dpg(K_Sn_ypg)*n_zpgosn_dpg(w_Sn_ypg))*(-sinn_dpg(K_Sn_ypg_n_ypgjg)*sinn_dpg(phi_n_ypgjg)*sinn_dpg(w_n_ypgjg) - n_zpgosn_dpg(K_Sn_ypg_n_ypgjg)*n_zpgosn_dpg(w_n_ypgjg)) - (sinn_dpg(K_Sn_ypg)*sinn_dpg(phi_Sn_ypg)*n_zpgosn_dpg(w_Sn_ypg) - sinn_dpg(w_Sn_ypg)*n_zpgosn_dpg(K_Sn_ypg))*sinn_dpg(w_n_ypgjg)*n_zpgosn_dpg(phi_n_ypgjg))) + n_zpg*(y_n_ypgjg_sj*((-sinn_dpg(K_Sn_ypg_n_ypgjg)*sinn_dpg(w_n_ypgjg) - sinn_dpg(phi_n_ypgjg)*n_zpgosn_dpg(K_Sn_ypg_n_ypgjg)*n_zpgosn_dpg(w_n_ypgjg))*sinn_dpg(phi_Sn_ypg) + (sinn_dpg(K_Sn_ypg_n_ypgjg)*sinn_dpg(phi_n_ypgjg)*n_zpgosn_dpg(w_n_ypgjg) - sinn_dpg(w_n_ypgjg)*n_zpgosn_dpg(K_Sn_ypg_n_ypgjg))*sinn_dpg(w_Sn_ypg)*n_zpgosn_dpg(phi_Sn_ypg) + n_zpgosn_dpg(phi_Sn_ypg)*n_zpgosn_dpg(w_Sn_ypg)*n_zpgosn_dpg(phi_n_ypgjg)*n_zpgosn_dpg(w_n_ypgjg)) + phi_n_ypgjgtz_n_ypgjg*((-sinn_dpg(K_Sn_ypg_n_ypgjg)*n_zpgosn_dpg(w_n_ypgjg) + sinn_dpg(phi_n_ypgjg)*sinn_dpg(w_n_ypgjg)*n_zpgosn_dpg(K_Sn_ypg_n_ypgjg))*sinn_dpg(phi_Sn_ypg) + (-sinn_dpg(K_Sn_ypg_n_ypgjg)*sinn_dpg(phi_n_ypgjg)*sinn_dpg(w_n_ypgjg) - n_zpgosn_dpg(K_Sn_ypg_n_ypgjg)*n_zpgosn_dpg(w_n_ypgjg))*sinn_dpg(w_Sn_ypg)*n_zpgosn_dpg(phi_Sn_ypg) - sinn_dpg(w_n_ypgjg)*n_zpgosn_dpg(phi_Sn_ypg)*n_zpgosn_dpg(w_Sn_ypg)*n_zpgosn_dpg(phi_n_ypgjg)));'"
      ]
     },
     "execution_count": 257,
     "metadata": {},
     "output_type": "execute_result"
    }
   ],
   "source": [
    "code_replaced = replace_symbs(code_out)\n",
    "code_replaced"
   ]
  },
  {
   "cell_type": "code",
   "execution_count": null,
   "id": "2fc973b7",
   "metadata": {},
   "outputs": [],
   "source": []
  }
 ],
 "metadata": {
  "kernelspec": {
   "display_name": "development",
   "language": "python",
   "name": "development"
  },
  "language_info": {
   "codemirror_mode": {
    "name": "ipython",
    "version": 3
   },
   "file_extension": ".py",
   "mimetype": "text/x-python",
   "name": "python",
   "nbconvert_exporter": "python",
   "pygments_lexer": "ipython3",
   "version": "3.8.5"
  }
 },
 "nbformat": 4,
 "nbformat_minor": 5
}
